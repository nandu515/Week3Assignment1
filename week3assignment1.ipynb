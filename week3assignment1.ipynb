{
 "cells": [
  {
   "cell_type": "code",
   "execution_count": 14,
   "id": "dbaaccca-75cb-485c-8ea4-ae42ea243632",
   "metadata": {},
   "outputs": [
    {
     "data": {
      "text/plain": [
       "[1, 3, 5, 7, 9, 11, 13, 15, 17, 19, 21, 23, 25]"
      ]
     },
     "execution_count": 14,
     "metadata": {},
     "output_type": "execute_result"
    }
   ],
   "source": [
    "#Q1. Which keyword is used to create a function? Create a function to return a list of odd numbers in the range of 1 to 25.\n",
    "#Ans:def keyword is used to create a function.\n",
    "\n",
    "def oddnum():\n",
    "    #k=int(input)\n",
    "    list=[]\n",
    "    for i in range (1,26):\n",
    "        if i%2==1:\n",
    "            list.append(i)\n",
    "    return list\n",
    "oddnum()"
   ]
  },
  {
   "cell_type": "code",
   "execution_count": 79,
   "id": "945fa90b-be42-4962-9d57-97ea406abad5",
   "metadata": {},
   "outputs": [
    {
     "data": {
      "text/plain": [
       "(1, 2, 'name', 6.5, ['a', 'b', 'c'], (1, 2, 'k'))"
      ]
     },
     "execution_count": 79,
     "metadata": {},
     "output_type": "execute_result"
    }
   ],
   "source": [
    "#Q2. Why *args and **kwargs is used in some functions? Create a function each for *args and **kwargs to demonstrate their use.\n",
    "#Ans: *arg is used to pass n number of arguments and **kwargs are used to pass key value pairs here * is important not the name.\n",
    "\n",
    "def narg(*kishore):\n",
    "    return kishore\n",
    "narg(1,2,\"name\",6.5,[\"a\",\"b\",\"c\"],(1,2,'k'))"
   ]
  },
  {
   "cell_type": "code",
   "execution_count": 80,
   "id": "16a793e2-70cc-4a5d-9aee-cfa82afe5e2e",
   "metadata": {},
   "outputs": [
    {
     "data": {
      "text/plain": [
       "{'k': 586, 'a': 'nanda', 'l': [1.6, 5, 'lsit']}"
      ]
     },
     "execution_count": 80,
     "metadata": {},
     "output_type": "execute_result"
    }
   ],
   "source": [
    "def kvarg(**kishor):\n",
    "    return kishor\n",
    "kvarg(k=586, a=\"nanda\",l=[1.6,5,\"lsit\"])"
   ]
  },
  {
   "cell_type": "code",
   "execution_count": 5,
   "id": "cdda56b8-488e-47cc-b673-5d78d70e3b11",
   "metadata": {},
   "outputs": [
    {
     "name": "stdout",
     "output_type": "stream",
     "text": [
      "2\n",
      "4\n",
      "6\n",
      "8\n",
      "10\n"
     ]
    }
   ],
   "source": [
    "\"\"\"Q3.  What is an iterator in python? Name the method used to initialise the iterator object and the method \n",
    "used for iteration. Use these methods to print the first five elements of the given list [2, 4, 6, 8, 10, 12, 14, \n",
    "16, 18, 20]\"\"\"\n",
    "#Ans:\n",
    " #   iterator:which is used to iterate an objet. and the methods used for initialize the iterator object is iter() and next() iteration.\n",
    "    \n",
    "list1 = [2, 4, 6, 8, 10, 12, 14, 16, 18, 20]\n",
    "char = iter(list1)\n",
    "#print(char)\n",
    "for x in range(0,5):\n",
    "    print(next(char))\n",
    "# \"\"\"def iteration(a):\n",
    "#     l1=[] \n",
    "#     for i in list1:\n",
    "#         l1.append(i)\n",
    "#         return l1\n",
    "# iteration(list1)\n",
    "# l1=[]\n",
    "# print(next(l1[0:5]))\"\"\"\n",
    "        \n",
    "         \n",
    "\n"
   ]
  },
  {
   "cell_type": "code",
   "execution_count": null,
   "id": "ca5fb1e4-6176-44f4-a12b-cbf2ef921ba1",
   "metadata": {},
   "outputs": [],
   "source": []
  },
  {
   "cell_type": "code",
   "execution_count": null,
   "id": "4ca001bc-8c27-4f54-a13f-825b5743ff6a",
   "metadata": {},
   "outputs": [],
   "source": []
  },
  {
   "cell_type": "code",
   "execution_count": 30,
   "id": "4ce56c13-ced9-4193-9b43-cc33e68cb4d6",
   "metadata": {},
   "outputs": [
    {
     "name": "stdout",
     "output_type": "stream",
     "text": [
      "0\n",
      "1\n",
      "2\n",
      "4\n",
      "8\n",
      "16\n",
      "32\n",
      "64\n",
      "128\n",
      "256\n",
      "512\n",
      "1024\n",
      "2048\n",
      "4096\n",
      "8192\n",
      "16384\n",
      "32768\n",
      "65536\n",
      "131072\n",
      "262144\n"
     ]
    }
   ],
   "source": [
    "#Q4.  What is a generator function in python? Why yield keyword is used? Give an example of a generator function.\n",
    "#Ans:generator function is used to generate a series of values by using yeild. yeild is used to store a new value of the varialbe and to retrive it next time.\n",
    "def generator(n):\n",
    "    a=0\n",
    "    b=1\n",
    "    for i in range(n):\n",
    "        yield a\n",
    "        a=b\n",
    "        b=a+b  \n",
    "for i in generator(20):\n",
    "    print(i)"
   ]
  },
  {
   "cell_type": "code",
   "execution_count": 18,
   "id": "bd43838d-9696-480f-a879-d685baebcd67",
   "metadata": {},
   "outputs": [
    {
     "name": "stdout",
     "output_type": "stream",
     "text": [
      "2\n",
      "3\n",
      "5\n",
      "7\n",
      "11\n",
      "13\n",
      "17\n",
      "19\n",
      "23\n",
      "29\n",
      "31\n",
      "37\n",
      "41\n",
      "43\n",
      "47\n",
      "53\n",
      "59\n",
      "61\n",
      "67\n",
      "71\n"
     ]
    }
   ],
   "source": [
    "#Q5.Create a generator function for prime numbers less than 1000. Use the next() method to print the first 20 prime numbers\n",
    "def primenum():\n",
    "    for i in range(1,1000):\n",
    "        count=0\n",
    "        for x in range(1,i+1):\n",
    "            if i%x==0 :\n",
    "                count=count+1\n",
    "        if count == 2: \n",
    "            yield x\n",
    "pri = primenum()\n",
    "for i in range(20):\n",
    "    print(next(pri))"
   ]
  },
  {
   "cell_type": "code",
   "execution_count": 14,
   "id": "c7c33260-3840-4393-b8a2-4ec4961e0380",
   "metadata": {},
   "outputs": [
    {
     "name": "stdout",
     "output_type": "stream",
     "text": [
      "1\n",
      "2\n",
      "4\n",
      "8\n",
      "16\n",
      "32\n",
      "64\n",
      "128\n",
      "256\n",
      "512\n",
      "1024\n"
     ]
    }
   ],
   "source": [
    "#Q6. Write a python program to print the first 10 Fibonacci numbers using a while loop\n",
    "#def fibo(a):\n",
    "a=0\n",
    "b=1\n",
    "count=0\n",
    "while count<=10:\n",
    "    a=b\n",
    "    b=a+b\n",
    "    count=count+1\n",
    "    print(a)\n",
    "        "
   ]
  },
  {
   "cell_type": "code",
   "execution_count": 2,
   "id": "897f7b2a-ca53-4e71-86c1-99d208bef396",
   "metadata": {},
   "outputs": [
    {
     "name": "stdout",
     "output_type": "stream",
     "text": [
      "['p', 'w', 's', 'k', 'i', 'l', 'l', 's']\n"
     ]
    }
   ],
   "source": [
    "\"\"\"Q7. Write a List Comprehension to iterate through the given string: ‘pwskills’.\n",
    "Expected output: ['p', 'w', 's', 'k', 'i', 'l', 'l', 's']\"\"\"\n",
    "x='pwskills'\n",
    "y=[n for n in x ]\n",
    "print(y)"
   ]
  },
  {
   "cell_type": "code",
   "execution_count": 2,
   "id": "7d6af181-832f-4c26-beee-928d86298c08",
   "metadata": {},
   "outputs": [
    {
     "name": "stdin",
     "output_type": "stream",
     "text": [
      " 121\n"
     ]
    },
    {
     "name": "stdout",
     "output_type": "stream",
     "text": [
      "121\n",
      "0\n",
      "palindrome\n"
     ]
    }
   ],
   "source": [
    "#Q8. Write a python program to check whether a given number is Palindrome or not using a while loop\n",
    "number=int(input())\n",
    "y = number\n",
    "#print(number)\n",
    "new_num=0\n",
    "while number>0:\n",
    "    reminder=number%10\n",
    "    new_num=new_num*10+reminder\n",
    "    number=number//10\n",
    "print(new_num) \n",
    "print(number)\n",
    "\n",
    "if y == new_num:\n",
    "    print(\"palindrome\")\n",
    "else :\n",
    "    print(\"not a palindrome\")\n"
   ]
  },
  {
   "cell_type": "code",
   "execution_count": null,
   "id": "a7260880-96bc-4446-b932-c14d2a5543a6",
   "metadata": {},
   "outputs": [],
   "source": [
    "123\n"
   ]
  },
  {
   "cell_type": "code",
   "execution_count": null,
   "id": "74ff257a-16a3-40cd-973d-2e6fdd0f22f2",
   "metadata": {},
   "outputs": [],
   "source": []
  }
 ],
 "metadata": {
  "kernelspec": {
   "display_name": "Python 3 (ipykernel)",
   "language": "python",
   "name": "python3"
  },
  "language_info": {
   "codemirror_mode": {
    "name": "ipython",
    "version": 3
   },
   "file_extension": ".py",
   "mimetype": "text/x-python",
   "name": "python",
   "nbconvert_exporter": "python",
   "pygments_lexer": "ipython3",
   "version": "3.10.8"
  }
 },
 "nbformat": 4,
 "nbformat_minor": 5
}
